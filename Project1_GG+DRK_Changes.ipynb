{
 "cells": [
  {
   "cell_type": "code",
   "execution_count": null,
   "id": "4e0a1d57",
   "metadata": {},
   "outputs": [],
   "source": [
    "import os\n",
    "import requests\n",
    "from dotenv import load_dotenv\n",
    "import pandas as pd\n",
    "import pandas_datareader as web\n",
    "import datetime as dt\n",
    "import numpy as np\n",
    "from MCForecastTools import MCSimulation\n",
    "import alpaca_trade_api as tradeapi"
   ]
  },
  {
   "cell_type": "code",
   "execution_count": null,
   "id": "0d501f14",
   "metadata": {},
   "outputs": [],
   "source": [
    "historical_start_date = dt.datetime(2016,8,1)\n",
    "historical_end_date = dt.datetime(2021,7,31)\n",
    "\n",
    "ADA_df = web.DataReader('ADA-USD','yahoo',historical_start_date,historical_end_date)\n",
    "BCH_df = web.DataReader('BCH-USD','yahoo',historical_start_date,historical_end_date)\n",
    "BNB_df = web.DataReader('BNB-USD','yahoo',historical_start_date,historical_end_date)\n",
    "BTC_df = web.DataReader('BTC-USD','yahoo',historical_start_date,historical_end_date)\n",
    "DOGE_df = web.DataReader('DOGE-USD','yahoo',historical_start_date,historical_end_date)\n",
    "EOS_df = web.DataReader('EOS-USD','yahoo',historical_start_date,historical_end_date)\n",
    "ETC_df = web.DataReader('ETC-USD','yahoo',historical_start_date,historical_end_date)\n",
    "ETH_df = web.DataReader('ETH-USD','yahoo',historical_start_date,historical_end_date)\n",
    "FIL_df = web.DataReader('FIL-USD','yahoo',historical_start_date,historical_end_date)\n",
    "LINK_df = web.DataReader('LINK-USD','yahoo',historical_start_date,historical_end_date)\n",
    "LTC_df = web.DataReader('LTC-USD','yahoo',historical_start_date,historical_end_date)\n",
    "MKR_df = web.DataReader('MKR-USD','yahoo',historical_start_date,historical_end_date)\n",
    "THETA_df = web.DataReader('THETA-USD','yahoo',historical_start_date,historical_end_date)\n",
    "TRX_df = web.DataReader('TRX-USD','yahoo',historical_start_date,historical_end_date)\n",
    "VET_df = web.DataReader('VET-USD','yahoo',historical_start_date,historical_end_date)\n",
    "XLM_df = web.DataReader('XLM-USD','yahoo',historical_start_date,historical_end_date)\n",
    "XMR_df = web.DataReader('XMR-USD','yahoo',historical_start_date,historical_end_date)\n",
    "XRP_df = web.DataReader('XRP-USD','yahoo',historical_start_date,historical_end_date)\n",
    "SPX_df = web.DataReader('sp500','fred',historical_start_date,historical_end_date)\n",
    "\n",
    "ADA_df = ADA_df.loc[~ADA_df.index.duplicated(keep='first')]\n",
    "BCH_df = BCH_df.loc[~BCH_df.index.duplicated(keep='first')]\n",
    "BNB_df = BNB_df.loc[~BNB_df.index.duplicated(keep='first')]\n",
    "BTC_df = BTC_df.loc[~BTC_df.index.duplicated(keep='first')]\n",
    "DOGE_df = DOGE_df.loc[~DOGE_df.index.duplicated(keep='first')]\n",
    "EOS_df = EOS_df.loc[~EOS_df.index.duplicated(keep='first')]\n",
    "ETC_df = ETC_df.loc[~ETC_df.index.duplicated(keep='first')]\n",
    "ETH_df = ETH_df.loc[~ETH_df.index.duplicated(keep='first')]\n",
    "FIL_df = FIL_df.loc[~FIL_df.index.duplicated(keep='first')]\n",
    "LINK_df = LINK_df.loc[~LINK_df.index.duplicated(keep='first')]\n",
    "LTC_df = LTC_df.loc[~LTC_df.index.duplicated(keep='first')]\n",
    "MKR_df = MKR_df.loc[~MKR_df.index.duplicated(keep='first')]\n",
    "THETA_df = THETA_df.loc[~THETA_df.index.duplicated(keep='first')]\n",
    "TRX_df = TRX_df.loc[~TRX_df.index.duplicated(keep='first')]\n",
    "VET_df = VET_df.loc[~VET_df.index.duplicated(keep='first')]\n",
    "XLM_df = XLM_df.loc[~XLM_df.index.duplicated(keep='first')]\n",
    "XMR_df = XMR_df.loc[~XMR_df.index.duplicated(keep='first')]\n",
    "XRP_df = XRP_df.loc[~XRP_df.index.duplicated(keep='first')]\n",
    "SPX_df = SPX_df.loc[~SPX_df.index.duplicated(keep='first')]\n"
   ]
  },
  {
   "cell_type": "code",
   "execution_count": null,
   "id": "8ad7962d",
   "metadata": {},
   "outputs": [],
   "source": [
    "ADA_close_df = ADA_df[['Close']].rename({'Close':'close'}, axis=1).reset_index()\n",
    "BCH_close_df = BCH_df[['Close']].rename({'Close':'close'}, axis=1).reset_index()\n",
    "BNB_close_df = BNB_df[['Close']].rename({'Close':'close'}, axis=1).reset_index()\n",
    "BTC_close_df = BTC_df[['Close']].rename({'Close':'close'}, axis=1).reset_index()\n",
    "DOGE_close_df = DOGE_df[['Close']].rename({'Close':'close'}, axis=1).reset_index()\n",
    "EOS_close_df = EOS_df[['Close']].rename({'Close':'close'}, axis=1).reset_index()\n",
    "ETC_close_df = ETC_df[['Close']].rename({'Close':'close'}, axis=1).reset_index()\n",
    "ETH_close_df = ETH_df[['Close']].rename({'Close':'close'}, axis=1).reset_index()\n",
    "FIL_close_df = FIL_df[['Close']].rename({'Close':'close'}, axis=1).reset_index()\n",
    "LINK_close_df = LINK_df[['Close']].rename({'Close':'close'}, axis=1).reset_index()\n",
    "LTC_close_df = LTC_df[['Close']].rename({'Close':'close'}, axis=1).reset_index()\n",
    "MKR_close_df = MKR_df[['Close']].rename({'Close':'close'}, axis=1).reset_index()\n",
    "THETA_close_df = THETA_df[['Close']].rename({'Close':'close'}, axis=1).reset_index()\n",
    "TRX_close_df = TRX_df[['Close']].rename({'Close':'close'}, axis=1).reset_index()\n",
    "VET_close_df = VET_df[['Close']].rename({'Close':'close'}, axis=1).reset_index()\n",
    "XLM_close_df = XLM_df[['Close']].rename({'Close':'close'}, axis=1).reset_index()\n",
    "XMR_close_df = XMR_df[['Close']].rename({'Close':'close'}, axis=1).reset_index()\n",
    "XRP_close_df = XRP_df[['Close']].rename({'Close':'close'}, axis=1).reset_index()\n",
    "SPX_close_df = SPX_df[['sp500']].rename({'sp500':'sp500 close'}, axis=1).reset_index()\n"
   ]
  },
  {
   "cell_type": "code",
   "execution_count": null,
   "id": "ffc704c4",
   "metadata": {},
   "outputs": [],
   "source": [
    "\n",
    "to_merge_dict = {'ADA': ADA_close_df, 'BCH': BCH_close_df, 'BNB': BNB_close_df, 'BTC': BTC_close_df, 'DOGE': DOGE_close_df, \n",
    "                 'EOS': EOS_close_df, 'ETC': ETC_close_df, 'ETH': ETH_close_df, \n",
    "                 'FIL': FIL_close_df, 'LINK': LINK_close_df, 'LTC': LTC_close_df, \n",
    "                 'MKR': MKR_close_df, 'THETA': THETA_close_df, 'TRX': TRX_close_df,\n",
    "                 'VET': VET_close_df, 'XLM': XLM_close_df, 'XMR': XMR_close_df, \n",
    "                 'XRP': XRP_close_df}\n",
    "merged_df = pd.concat(to_merge_dict.values(), axis=1, keys=to_merge_dict.keys())\n",
    "merged_df = merged_df.dropna()\n",
    "merged_df"
   ]
  },
  {
   "cell_type": "code",
   "execution_count": null,
   "id": "89c39654-e855-4ae2-98e0-df5c16a22266",
   "metadata": {},
   "outputs": [],
   "source": []
  },
  {
   "cell_type": "code",
   "execution_count": 190,
   "id": "fffb602b-0920-4315-bcb8-a54aaa44062b",
   "metadata": {},
   "outputs": [],
   "source": [
    "ADA = {'ada': ADA_close_df}\n",
    "BCH = {'bch': BCH_close_df}\n",
    "BNB = {'bnb': BNB_close_df}\n",
    "BTC = {'btc': BTC_close_df}\n",
    "DOGE = {'doge': DOGE_close_df}\n",
    "EOS = {'eos': EOS_close_df}\n",
    "ETC = {'etc': ETC_close_df}\n",
    "ETH = {'eth': ETH_close_df}\n",
    "FIL = {'fil': FIL_close_df}\n",
    "LINK = {'link': LINK_close_df}\n",
    "LTC = {'ltc': LTC_close_df}\n",
    "MKR = {'mkr': MKR_close_df}\n",
    "THETA = {'theta': THETA_close_df}\n",
    "TRX = {'trx': TRX_close_df}\n",
    "VET = {'vet': VET_close_df}\n",
    "XLM = {'xlm': XLM_close_df}\n",
    "XMR = {'xmr': XMR_close_df}\n",
    "XRP = {'xrp': XRP_close_df}\n",
    "SPX = {'spx': SPX_close_df}\n",
    "\n",
    "    "
   ]
  },
  {
   "cell_type": "code",
   "execution_count": 191,
   "id": "0dc7fb3c-6159-4fb5-b7c2-3b6f3eba7ff3",
   "metadata": {},
   "outputs": [],
   "source": [
    "ADA_DF=pd.concat(ADA.values(), axis=1, keys=ADA.keys())\n",
    "BCH_DF=pd.concat(BCH.values(), axis=1, keys=BCH.keys())\n",
    "BNB_DF=pd.concat(BNB.values(), axis=1, keys=BNB.keys())\n",
    "BTC_DF=pd.concat(BTC.values(), axis=1, keys=BTC.keys())\n",
    "DOGE_DF=pd.concat(DOGE.values(), axis=1, keys=DOGE.keys())\n",
    "EOS_DF=pd.concat(EOS.values(), axis=1, keys=EOS.keys())\n",
    "ETC_DF=pd.concat(ETC.values(), axis=1, keys=ETC.keys())\n",
    "ETH_DF=pd.concat(ETH.values(), axis=1, keys=ETH.keys())\n",
    "FIL_DF=pd.concat(FIL.values(), axis=1, keys=FIL.keys())\n",
    "LINK_DF=pd.concat(LINK.values(), axis=1, keys=LINK.keys())\n",
    "LTC_DF=pd.concat(LTC.values(), axis=1, keys=LTC.keys())\n",
    "MKR_DF=pd.concat(MKR.values(), axis=1, keys=MKR.keys())\n",
    "THETA_DF=pd.concat(THETA.values(), axis=1, keys=THETA.keys())\n",
    "TRX_DF=pd.concat(TRX.values(), axis=1, keys=TRX.keys())\n",
    "VET_DF=pd.concat(VET.values(), axis=1, keys=VET.keys())\n",
    "XLM_DF=pd.concat(XLM.values(), axis=1, keys=XLM.keys())\n",
    "XMR_DF=pd.concat(XMR.values(), axis=1, keys=XMR.keys())\n",
    "XRP_DF=pd.concat(XRP.values(), axis=1, keys=XRP.keys())\n",
    "SPX_DF=pd.concat(SPX.values(), axis=1, keys=SPX.keys())\n"
   ]
  },
  {
   "cell_type": "code",
   "execution_count": 194,
   "id": "095cf067-da85-4837-8678-360d5f5b1b5c",
   "metadata": {},
   "outputs": [],
   "source": [
    "portfolio = [\n",
    "    ADA_DF,\n",
    "    BNB_DF,\n",
    "    BCH_DF,\n",
    "    BTC_DF,\n",
    "    DOGE_DF,\n",
    "    EOS_DF,\n",
    "    ETC_DF,\n",
    "    ETH_DF,\n",
    "    FIL_DF,\n",
    "    LINK_DF,\n",
    "    LTC_DF,\n",
    "    MKR_DF,\n",
    "    THETA_DF,\n",
    "    TRX_DF,\n",
    "    VET_DF,\n",
    "    XLM_DF,\n",
    "    XMR_DF,\n",
    "    XRP_DF,\n",
    "    SPX_DF\n",
    "\n",
    "]\n"
   ]
  },
  {
   "cell_type": "code",
   "execution_count": 199,
   "id": "82ed1497",
   "metadata": {},
   "outputs": [
    {
     "name": "stdout",
     "output_type": "stream",
     "text": [
      "Running Monte Carlo simulation number 0.\n"
     ]
    },
    {
     "ename": "TypeError",
     "evalue": "'float' object cannot be interpreted as an integer",
     "output_type": "error",
     "traceback": [
      "\u001b[0;31m---------------------------------------------------------------------------\u001b[0m",
      "\u001b[0;31mTypeError\u001b[0m                                 Traceback (most recent call last)",
      "\u001b[0;32m<ipython-input-199-9bb9a0c17304>\u001b[0m in \u001b[0;36m<module>\u001b[0;34m\u001b[0m\n\u001b[1;32m      6\u001b[0m                                 num_trading_days = 252*.5)\n\u001b[1;32m      7\u001b[0m \u001b[0;34m\u001b[0m\u001b[0m\n\u001b[0;32m----> 8\u001b[0;31m     \u001b[0mcumulative_return\u001b[0m \u001b[0;34m=\u001b[0m \u001b[0mcoin_mcsim_equal\u001b[0m\u001b[0;34m.\u001b[0m\u001b[0mcalc_cumulative_return\u001b[0m\u001b[0;34m(\u001b[0m\u001b[0;34m)\u001b[0m\u001b[0;34m.\u001b[0m\u001b[0mmean\u001b[0m\u001b[0;34m(\u001b[0m\u001b[0;34m)\u001b[0m\u001b[0;34m\u001b[0m\u001b[0;34m\u001b[0m\u001b[0m\n\u001b[0m\u001b[1;32m      9\u001b[0m     \u001b[0mcum_ret\u001b[0m\u001b[0;34m.\u001b[0m\u001b[0mappend\u001b[0m\u001b[0;34m(\u001b[0m\u001b[0mcumulative_return\u001b[0m\u001b[0;34m.\u001b[0m\u001b[0miloc\u001b[0m\u001b[0;34m[\u001b[0m\u001b[0;34m-\u001b[0m\u001b[0;36m1\u001b[0m\u001b[0;34m]\u001b[0m\u001b[0;34m)\u001b[0m\u001b[0;34m\u001b[0m\u001b[0;34m\u001b[0m\u001b[0m\n\u001b[1;32m     10\u001b[0m \u001b[0;34m\u001b[0m\u001b[0m\n",
      "\u001b[0;32m~/Desktop/Columbia_Challenges/Project_1/project_1/MCForecastTools.py\u001b[0m in \u001b[0;36mcalc_cumulative_return\u001b[0;34m(self)\u001b[0m\n\u001b[1;32m    103\u001b[0m \u001b[0;34m\u001b[0m\u001b[0m\n\u001b[1;32m    104\u001b[0m                 \u001b[0;31m# Simulate the returns for each trading day\u001b[0m\u001b[0;34m\u001b[0m\u001b[0;34m\u001b[0m\u001b[0;34m\u001b[0m\u001b[0m\n\u001b[0;32m--> 105\u001b[0;31m                 \u001b[0;32mfor\u001b[0m \u001b[0mi\u001b[0m \u001b[0;32min\u001b[0m \u001b[0mrange\u001b[0m\u001b[0;34m(\u001b[0m\u001b[0mself\u001b[0m\u001b[0;34m.\u001b[0m\u001b[0mnTrading\u001b[0m\u001b[0;34m)\u001b[0m\u001b[0;34m:\u001b[0m\u001b[0;34m\u001b[0m\u001b[0;34m\u001b[0m\u001b[0m\n\u001b[0m\u001b[1;32m    106\u001b[0m \u001b[0;34m\u001b[0m\u001b[0m\n\u001b[1;32m    107\u001b[0m                     \u001b[0;31m# Calculate the simulated price using the last price within the list\u001b[0m\u001b[0;34m\u001b[0m\u001b[0;34m\u001b[0m\u001b[0;34m\u001b[0m\u001b[0m\n",
      "\u001b[0;31mTypeError\u001b[0m: 'float' object cannot be interpreted as an integer"
     ]
    }
   ],
   "source": [
    "cum_ret = []\n",
    "for x in portfolio:\n",
    "    coin_mcsim_equal = MCSimulation(portfolio_data = x, \n",
    "                                weights = [1],\n",
    "                                num_simulation = 10,\n",
    "                                num_trading_days = 252*.5)\n",
    "\n",
    "    cumulative_return = coin_mcsim_equal.calc_cumulative_return().mean()\n",
    "    cum_ret.append(cumulative_return.iloc[-1])\n",
    "\n",
    "cum_ret_df = pd.DataFrame(cum_ret)\n",
    "cum_ret_names=cum_ret_df.rename(index={0: 'ADA', 1: 'BCH', 2: 'BNB', 3: 'BTC',4:'DOGE',5:'EOS',6:'EOS',7:'ETC',8:'ETH',9:'FIL',10:'LNK',11:'LTC',12:'MKR',13:'THETA',14:'TRX',15:'VET',16:'XLM',17:'XMR',18:'XRP',19:'SPX'})\n",
    "cum_ret_names.columns=['Cumulative Return']\n",
    "cum_ret_names"
   ]
  },
  {
   "cell_type": "code",
   "execution_count": 185,
   "id": "940143d6-1da1-4546-bd26-c927377286ce",
   "metadata": {},
   "outputs": [
    {
     "data": {
      "text/html": [
       "<div>\n",
       "<style scoped>\n",
       "    .dataframe tbody tr th:only-of-type {\n",
       "        vertical-align: middle;\n",
       "    }\n",
       "\n",
       "    .dataframe tbody tr th {\n",
       "        vertical-align: top;\n",
       "    }\n",
       "\n",
       "    .dataframe thead th {\n",
       "        text-align: right;\n",
       "    }\n",
       "</style>\n",
       "<table border=\"1\" class=\"dataframe\">\n",
       "  <thead>\n",
       "    <tr style=\"text-align: right;\">\n",
       "      <th></th>\n",
       "      <th>Cumulative Return</th>\n",
       "    </tr>\n",
       "  </thead>\n",
       "  <tbody>\n",
       "    <tr>\n",
       "      <th>BNB</th>\n",
       "      <td>1.069110</td>\n",
       "    </tr>\n",
       "    <tr>\n",
       "      <th>ADA</th>\n",
       "      <td>2.620624</td>\n",
       "    </tr>\n",
       "    <tr>\n",
       "      <th>BCH</th>\n",
       "      <td>36.183093</td>\n",
       "    </tr>\n",
       "  </tbody>\n",
       "</table>\n",
       "</div>"
      ],
      "text/plain": [
       "     Cumulative Return\n",
       "BNB           1.069110\n",
       "ADA           2.620624\n",
       "BCH          36.183093"
      ]
     },
     "execution_count": 185,
     "metadata": {},
     "output_type": "execute_result"
    }
   ],
   "source": [
    "cum_ret_names.sort_values(by=['Cumulative Return'])"
   ]
  },
  {
   "cell_type": "code",
   "execution_count": null,
   "id": "4b3081af-2f90-403e-8712-ef96016f9b6e",
   "metadata": {},
   "outputs": [],
   "source": []
  },
  {
   "cell_type": "code",
   "execution_count": null,
   "id": "d808f40a-8ae9-4865-b5a7-eb132c15311c",
   "metadata": {},
   "outputs": [],
   "source": []
  },
  {
   "cell_type": "code",
   "execution_count": null,
   "id": "084cd84b-03db-41c4-97e8-af97135fdeb7",
   "metadata": {},
   "outputs": [],
   "source": []
  },
  {
   "cell_type": "code",
   "execution_count": 123,
   "id": "499f3312",
   "metadata": {},
   "outputs": [
    {
     "data": {
      "text/plain": [
       "[0.008636065981250059,\n",
       " 0.13205409096064155,\n",
       " 0.3148170168861258,\n",
       " 0.4342792645327876,\n",
       " 0.8194964087380736,\n",
       " 1.1236565535130536,\n",
       " 2.8729405610273506,\n",
       " 2.8872366670574223,\n",
       " 3.8816673827329233,\n",
       " 5.278179213999367,\n",
       " 10.208510733986515,\n",
       " 12.4138915395462,\n",
       " 31.03511793113631]"
      ]
     },
     "execution_count": 123,
     "metadata": {},
     "output_type": "execute_result"
    }
   ],
   "source": [
    "mean_returns"
   ]
  },
  {
   "cell_type": "code",
   "execution_count": null,
   "id": "c0e5e860-e0ec-40cc-bb9e-0c0257bc71b6",
   "metadata": {},
   "outputs": [],
   "source": []
  },
  {
   "cell_type": "code",
   "execution_count": null,
   "id": "f2da7248-3279-4a1a-8963-21738207da2c",
   "metadata": {},
   "outputs": [],
   "source": []
  },
  {
   "cell_type": "code",
   "execution_count": null,
   "id": "7ab61dc6-19fd-4d99-82bc-1a2f3d481616",
   "metadata": {},
   "outputs": [],
   "source": []
  },
  {
   "cell_type": "code",
   "execution_count": null,
   "id": "b109725d-03e3-4f8a-aee0-d042bcf31095",
   "metadata": {},
   "outputs": [],
   "source": []
  },
  {
   "cell_type": "code",
   "execution_count": null,
   "id": "cd634c7b-639a-47f3-9272-1fa67e605aa7",
   "metadata": {},
   "outputs": [],
   "source": []
  },
  {
   "cell_type": "code",
   "execution_count": null,
   "id": "29a7afb4-5e28-4494-a584-d77235cb4a51",
   "metadata": {},
   "outputs": [],
   "source": []
  },
  {
   "cell_type": "code",
   "execution_count": null,
   "id": "b3555212-d505-46cb-a082-06f6e9767c76",
   "metadata": {},
   "outputs": [],
   "source": []
  },
  {
   "cell_type": "code",
   "execution_count": null,
   "id": "301b2ff4",
   "metadata": {},
   "outputs": [],
   "source": [
    "coin_mcsim_equal.plot_simulation()"
   ]
  },
  {
   "cell_type": "code",
   "execution_count": null,
   "id": "2a0a1e42-d208-4ef5-a044-ce2c970dcb4a",
   "metadata": {},
   "outputs": [],
   "source": [
    "cumulative_return.iloc[-1].sort_values()"
   ]
  },
  {
   "cell_type": "code",
   "execution_count": null,
   "id": "b3d0c5d2-9ae9-4712-af1c-78f3a9b68acc",
   "metadata": {},
   "outputs": [],
   "source": [
    "cumulative_return"
   ]
  },
  {
   "cell_type": "code",
   "execution_count": null,
   "id": "775b49a6-1aa3-4616-a2c7-847d906a2bf2",
   "metadata": {},
   "outputs": [],
   "source": []
  },
  {
   "cell_type": "code",
   "execution_count": null,
   "id": "2c372a02",
   "metadata": {},
   "outputs": [],
   "source": [
    "coin_mcsim_equal.plot_distribution()"
   ]
  },
  {
   "cell_type": "code",
   "execution_count": null,
   "id": "ee6f3cea",
   "metadata": {},
   "outputs": [],
   "source": [
    "coin_mcsim_equal.summarize_cumulative_return()"
   ]
  },
  {
   "cell_type": "code",
   "execution_count": null,
   "id": "ba560d67",
   "metadata": {},
   "outputs": [],
   "source": [
    "ADA_close_df = ADA_df[['Close']].rename({'Close':'ADA_Close'}, axis=1)\n",
    "BCH_close_df = BCH_df[['Close']].rename({'Close':'BCH_Close'}, axis=1)\n",
    "BNB_close_df = BNB_df[['Close']].rename({'Close':'BNB_Close'}, axis=1)\n",
    "BTC_close_df = BTC_df[['Close']].rename({'Close':'BTC_Close'}, axis=1)\n",
    "DOGE_close_df = DOGE_df[['Close']].rename({'Close':'DOGE_Close'}, axis=1)\n",
    "EOS_close_df = EOS_df[['Close']].rename({'Close':'EOS_Close'}, axis=1)\n",
    "ETC_close_df = ETC_df[['Close']].rename({'Close':'ETC_Close'}, axis=1)\n",
    "ETH_close_df = ETH_df[['Close']].rename({'Close':'ETH_Close'}, axis=1)\n",
    "FIL_close_df = FIL_df[['Close']].rename({'Close':'FIL_Close'}, axis=1)\n",
    "LINK_close_df = LINK_df[['Close']].rename({'Close':'LINK_Close'}, axis=1)\n",
    "LTC_close_df = LTC_df[['Close']].rename({'Close':'LTC_Close'}, axis=1)\n",
    "MKR_close_df = MKR_df[['Close']].rename({'Close':'MKR_Close'}, axis=1)\n",
    "THETA_close_df = THETA_df[['Close']].rename({'Close':'THETA_Close'}, axis=1)\n",
    "TRX_close_df = TRX_df[['Close']].rename({'Close':'TRX_Close'}, axis=1)\n",
    "VET_close_df = VET_df[['Close']].rename({'Close':'VET_Close'}, axis=1)\n",
    "XLM_close_df = XLM_df[['Close']].rename({'Close':'XLM_Close'}, axis=1)\n",
    "XMR_close_df = XMR_df[['Close']].rename({'Close':'XMR_Close'}, axis=1)\n",
    "XRP_close_df = XRP_df[['Close']].rename({'Close':'XRP_Close'}, axis=1)\n",
    "SPX_close_df = SPX_df[['sp500']].rename({'sp500':'SPX_Close'}, axis=1)\n",
    "\n",
    "select_coin_close_df = pd.concat([ADA_close_df,BCH_close_df,BNB_close_df,BTC_close_df,DOGE_close_df,EOS_close_df,\n",
    "                                 ETC_close_df,ETH_close_df,FIL_close_df,LINK_close_df,LTC_close_df,MKR_close_df,\n",
    "                                 THETA_close_df,TRX_close_df,VET_close_df,XLM_close_df,XMR_close_df,XRP_close_df],axis=1).dropna()\n",
    "display(select_coin_close_df.count())\n",
    "display(select_coin_close_df)"
   ]
  },
  {
   "cell_type": "code",
   "execution_count": null,
   "id": "4690abdd",
   "metadata": {},
   "outputs": [],
   "source": [
    "coin_daily_returns = select_coin_close_df.pct_change().dropna()\n",
    "coin_daily_returns"
   ]
  },
  {
   "cell_type": "code",
   "execution_count": null,
   "id": "74bb111e",
   "metadata": {},
   "outputs": [],
   "source": [
    "coin_daily_mean_return = coin_daily_returns.mean()\n",
    "coin_daily_mean_return"
   ]
  },
  {
   "cell_type": "code",
   "execution_count": null,
   "id": "ac46b352",
   "metadata": {},
   "outputs": [],
   "source": [
    "coin_annual_mean_return = coin_daily_mean_return*select_coin_close_df.count()\n",
    "coin_annual_mean_return"
   ]
  },
  {
   "cell_type": "code",
   "execution_count": null,
   "id": "af1ab3cd",
   "metadata": {},
   "outputs": [],
   "source": [
    "coin_annual_std = coin_daily_returns.std()*np.sqrt(select_coin_close_df.count())\n",
    "coin_annual_std"
   ]
  },
  {
   "cell_type": "code",
   "execution_count": null,
   "id": "d60b4631",
   "metadata": {},
   "outputs": [],
   "source": [
    "coin_sharpe_ratio = coin_annual_mean_return/coin_annual_std\n",
    "coin_sharpe_ratio"
   ]
  },
  {
   "cell_type": "code",
   "execution_count": null,
   "id": "e71ff6c4",
   "metadata": {},
   "outputs": [],
   "source": [
    "select_coin_close_df"
   ]
  },
  {
   "cell_type": "code",
   "execution_count": null,
   "id": "f2fd9759",
   "metadata": {},
   "outputs": [],
   "source": [
    "spx_coin_close_df = pd.concat([ADA_close_df,BCH_close_df,BNB_close_df,BTC_close_df,DOGE_close_df,EOS_close_df,ETC_close_df,\n",
    "                               ETH_close_df,FIL_close_df,LINK_close_df,LTC_close_df,MKR_close_df,THETA_close_df,TRX_close_df,\n",
    "                               VET_close_df,XLM_close_df,XMR_close_df,XRP_close_df,SPX_close_df],axis=1).dropna()\n",
    "display(spx_coin_close_df.count())\n",
    "display(spx_coin_close_df)"
   ]
  },
  {
   "cell_type": "code",
   "execution_count": null,
   "id": "a140b45d",
   "metadata": {},
   "outputs": [],
   "source": [
    "spx_coin_daily_returns = spx_coin_close_df.pct_change().dropna()\n",
    "btc_daily_returns = spx_coin_close_df[\"BTC_Close\"].pct_change().dropna()\n",
    "btc_daily_returns"
   ]
  },
  {
   "cell_type": "code",
   "execution_count": null,
   "id": "995e678c",
   "metadata": {},
   "outputs": [],
   "source": [
    "spx_daily_returns = spx_coin_close_df[\"SPX_Close\"].pct_change().dropna()\n",
    "spx_daily_returns"
   ]
  },
  {
   "cell_type": "code",
   "execution_count": null,
   "id": "f02476ac",
   "metadata": {},
   "outputs": [],
   "source": [
    "spx_variance = spx_daily_returns.var()\n",
    "spx_variance"
   ]
  },
  {
   "cell_type": "code",
   "execution_count": null,
   "id": "a0c61d26",
   "metadata": {},
   "outputs": [],
   "source": [
    "btc_variance = btc_daily_returns.var()\n",
    "btc_variance"
   ]
  },
  {
   "cell_type": "code",
   "execution_count": null,
   "id": "54d24252",
   "metadata": {},
   "outputs": [],
   "source": [
    "btc_covariance = btc_daily_returns.cov(spx_daily_returns)\n",
    "btc_covariance"
   ]
  },
  {
   "cell_type": "code",
   "execution_count": null,
   "id": "1e886c4e",
   "metadata": {},
   "outputs": [],
   "source": [
    "BTC_close_df.describe()"
   ]
  },
  {
   "cell_type": "code",
   "execution_count": null,
   "id": "e304c048",
   "metadata": {},
   "outputs": [],
   "source": [
    "SPX_close_df.describe()"
   ]
  }
 ],
 "metadata": {
  "kernelspec": {
   "display_name": "Python 3",
   "language": "python",
   "name": "python3"
  },
  "language_info": {
   "codemirror_mode": {
    "name": "ipython",
    "version": 3
   },
   "file_extension": ".py",
   "mimetype": "text/x-python",
   "name": "python",
   "nbconvert_exporter": "python",
   "pygments_lexer": "ipython3",
   "version": "3.7.10"
  }
 },
 "nbformat": 4,
 "nbformat_minor": 5
}
